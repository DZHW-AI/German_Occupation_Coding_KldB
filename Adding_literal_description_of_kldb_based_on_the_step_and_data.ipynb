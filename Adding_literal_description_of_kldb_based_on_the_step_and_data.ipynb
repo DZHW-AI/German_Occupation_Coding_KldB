{
  "nbformat": 4,
  "nbformat_minor": 0,
  "metadata": {
    "colab": {
      "provenance": []
    },
    "kernelspec": {
      "name": "python3",
      "display_name": "Python 3"
    },
    "language_info": {
      "name": "python"
    }
  },
  "cells": [
    {
      "cell_type": "markdown",
      "source": [
        "preprocessing"
      ],
      "metadata": {
        "id": "oNL6L2QjsyzN"
      }
    },
    {
      "cell_type": "code",
      "source": [
        "import pandas as pd"
      ],
      "metadata": {
        "id": "ANUI8AO_wDXS"
      },
      "execution_count": null,
      "outputs": []
    },
    {
      "cell_type": "code",
      "execution_count": null,
      "metadata": {
        "id": "TeW6vMDbv4ri"
      },
      "outputs": [],
      "source": [
        "df = pd.read_csv('data.csv')\n",
        "df"
      ]
    },
    {
      "cell_type": "markdown",
      "source": [
        "To add 0 to the start of 4 digits kldb"
      ],
      "metadata": {
        "id": "M9i0cnvYFbvB"
      }
    },
    {
      "cell_type": "code",
      "source": [
        "df['col'] = df['kldb'].astype(str)"
      ],
      "metadata": {
        "id": "LyBNJ1JFVfqP"
      },
      "execution_count": null,
      "outputs": []
    },
    {
      "cell_type": "code",
      "source": [
        "arr=[]\n",
        "df['col1'] = df['kldb'].astype(str)\n",
        "df.kldb=df.col1"
      ],
      "metadata": {
        "id": "dHQ3X1icVn5_"
      },
      "execution_count": null,
      "outputs": []
    },
    {
      "cell_type": "code",
      "source": [
        "for i in range(len(arr)):\n",
        "  if 2<len(arr[i])<5:\n",
        "    arr[i]='0'+arr[i]\n",
        "    print(arr[i])"
      ],
      "metadata": {
        "id": "g1qSdus2VqEf"
      },
      "execution_count": null,
      "outputs": []
    },
    {
      "cell_type": "code",
      "source": [
        "for x in arr:\n",
        "  if 2<len(x)<5:\n",
        "    print('Its not working')"
      ],
      "metadata": {
        "id": "3r8EvQRAVqtn"
      },
      "execution_count": null,
      "outputs": []
    },
    {
      "cell_type": "code",
      "source": [
        "\n",
        "df['col'] = df['kldb'].astype(str)\n",
        "\n",
        "# make the new columns using string indexing\n",
        "df['kldb2'] = df['col'].str[0:3]\n",
        "df.kldb=df.kldb2\n",
        "df"
      ],
      "metadata": {
        "id": "6mEE-3HGwayZ"
      },
      "execution_count": null,
      "outputs": []
    },
    {
      "cell_type": "code",
      "source": [
        "dp = []    \n",
        "dp = pd.DataFrame(df)\n",
        "\n",
        "dp.to_csv('cleaneddata.csv')"
      ],
      "metadata": {
        "id": "rtoDfMw-YpZi"
      },
      "execution_count": null,
      "outputs": []
    },
    {
      "cell_type": "code",
      "source": [
        "import csv\n",
        "file = open(\"cleaneddata.csv\", \"r\")\n",
        "csv_reader = csv.reader(file)\n",
        "listsDf = []\n",
        "for row in csv_reader:\n",
        "  listsDf.append(row)\n",
        "listsDf"
      ],
      "metadata": {
        "id": "Mbseemu2YNSD"
      },
      "execution_count": null,
      "outputs": []
    },
    {
      "cell_type": "code",
      "source": [
        "myList = []\n",
        "import csv\n",
        "with open('KldB_2010-DE-2019-02-14-Gliederung.csv') as csv_file: # could be downloded from the (Bundesagentur für die Arbeit)\n",
        "    csv_reader = csv.reader(csv_file, delimiter=';')\n",
        "    for row in csv_reader:\n",
        "        myList.append(row)\n",
        "    csv_file.close()\n",
        "myList"
      ],
      "metadata": {
        "id": "ClhGXcu17m5n"
      },
      "execution_count": null,
      "outputs": []
    },
    {
      "cell_type": "code",
      "source": [
        "result = []\n",
        "for i in range(len(myList)):\n",
        "  for j in range(len(listsDf)):\n",
        "    if myList[i][0]==listsDf[j][3]:\n",
        "      listsDf[j].append(myList[i][2])\n",
        "      result.append(listsDf[j])\n",
        "      #result.concat(myList[i][1]))\n",
        "      #print(listsDf[j][3])\n",
        "\n",
        "result"
      ],
      "metadata": {
        "id": "fc_urHrfXyej"
      },
      "execution_count": null,
      "outputs": []
    },
    {
      "cell_type": "code",
      "source": [
        "import pandas as pd\n",
        "db = pd.DataFrame(result)\n",
        "db.to_csv('result.csv', index=False, header=False)"
      ],
      "metadata": {
        "id": "yuogIPhwfG2h"
      },
      "execution_count": null,
      "outputs": []
    },
    {
      "cell_type": "code",
      "source": [
        "db.columns=['occupation','kldb','p_lfdnr','obs','col','leteral_description_3']\n"
      ],
      "metadata": {
        "id": "ACxn9zdifHXP"
      },
      "execution_count": null,
      "outputs": []
    },
    {
      "cell_type": "code",
      "source": [
        "\n",
        "dd = pd.DataFrame(db)\n",
        "dd.to_csv('data_including_jobdescription_and_Features.csv', index=False)"
      ],
      "metadata": {
        "id": "uDTe18Ifi5Wa"
      },
      "execution_count": null,
      "outputs": []
    }
  ]
}